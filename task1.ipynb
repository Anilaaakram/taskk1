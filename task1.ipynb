{
 "cells": [
  {
   "cell_type": "code",
   "execution_count": null,
   "id": "58b7f64c-c260-42fc-b19c-1942c1830d0e",
   "metadata": {},
   "outputs": [],
   "source": [
    "import numpy as np"
   ]
  },
  {
   "cell_type": "code",
   "execution_count": 5,
   "id": "dae34a7e-d2c3-46bd-9a38-f05295c804a9",
   "metadata": {},
   "outputs": [
    {
     "name": "stdout",
     "output_type": "stream",
     "text": [
      "Array of 15 random numbers from a standard normal distribution:\n",
      "[ 0.24713174 -0.23029298 -0.19782031  1.07037543 -1.25798751  1.64773825\n",
      " -1.72613818  0.32424936 -0.86565486  1.08838164 -0.12312613  0.44378665\n",
      " -0.42857383  0.28311581  1.81556258]\n"
     ]
    }
   ],
   "source": [
    "#QUSTION:01\n",
    "# Generate an array of 15 random numbers from a standard normal distribution\n",
    "random_numbers = np.random.standard_normal(15)\n",
    "# Print the resulting array\n",
    "print(\"Array of 15 random numbers from a standard normal distribution:\")\n",
    "print(random_numbers)"
   ]
  },
  {
   "cell_type": "code",
   "execution_count": 6,
   "id": "2ced8482-915c-42f1-94c3-ac2e91ccd3fc",
   "metadata": {},
   "outputs": [
    {
     "name": "stdout",
     "output_type": "stream",
     "text": [
      "Array of all even integers from 30 to 70:\n",
      "[30 32 34 36 38 40 42 44 46 48 50 52 54 56 58 60 62 64 66 68 70]\n"
     ]
    }
   ],
   "source": [
    "#QUSTION:02\n",
    "#  Create an array of all even integers from 30 to 70 using NumPy\n",
    "even_integers_array = np.arange(30, 71, 2)\n",
    "print(\"Array of all even integers from 30 to 70:\")\n",
    "print(even_integers_array)"
   ]
  },
  {
   "cell_type": "code",
   "execution_count": 10,
   "id": "ec72d2c5-b451-4da5-8b5f-45df1cba41a6",
   "metadata": {},
   "outputs": [
    {
     "name": "stdout",
     "output_type": "stream",
     "text": [
      "Resultant Matrix:\n",
      "[[ 59  70]\n",
      " [150 178]]\n"
     ]
    }
   ],
   "source": [
    "#QUESTION:03\n",
    "#creating two matrices.\n",
    "matrix1 = np.array([[3, 4], [8, 10]])\n",
    "matrix2 = np.array([[5, 6], [11, 13]])\n",
    "# Computing  matrix multiplication\n",
    "result_matrix = np.dot(matrix1, matrix2)\n",
    "# Now Print the result\n",
    "print(\"Resultant Matrix:\")\n",
    "print(result_matrix)\n"
   ]
  },
  {
   "cell_type": "code",
   "execution_count": 9,
   "id": "0035af2f-1f7a-44fd-a54b-6b1f915e739d",
   "metadata": {},
   "outputs": [
    {
     "name": "stdout",
     "output_type": "stream",
     "text": [
      "Determinant of the matrix:\n",
      "-12.0\n"
     ]
    }
   ],
   "source": [
    "#QUESTION:04\n",
    "# Defining square matrix\n",
    "matrix = np.array([[2, 4], [7, 8]])\n",
    "# Compute the determinant\n",
    "determinant_value = np.linalg.det(matrix)\n",
    "# Print the result\n",
    "print(\"Determinant of the matrix:\")\n",
    "print(determinant_value)\n"
   ]
  },
  {
   "cell_type": "code",
   "execution_count": 13,
   "id": "c2409be3-7d7d-4a38-b069-f33db63e82c0",
   "metadata": {},
   "outputs": [
    {
     "name": "stdout",
     "output_type": "stream",
     "text": [
      "Random 5x5 array:\n",
      "[[0.67854145 0.7798738 ]\n",
      " [0.24807427 0.3060773 ]]\n",
      "\n",
      "Minimum value: 0.24807427225545342\n",
      "Maximum value: 0.7798737968056729\n"
     ]
    }
   ],
   "source": [
    "#QUESTION:05\n",
    "# Creating  5x5 array with random values\n",
    "random_array = np.random.rand(2, 2)\n",
    "# Find the minimum and maximum values\n",
    "min_value = np.min(random_array)\n",
    "max_value = np.max(random_array)\n",
    "# Print the array and results\n",
    "print(\"Random 5x5 array:\")\n",
    "print(random_array)\n",
    "print(\"\\nMinimum value:\", min_value)\n",
    "print(\"Maximum value:\", max_value)\n"
   ]
  },
  {
   "cell_type": "code",
   "execution_count": 14,
   "id": "2636cac5-7b46-4f0b-a5fc-e9495fd201f1",
   "metadata": {},
   "outputs": [
    {
     "name": "stdout",
     "output_type": "stream",
     "text": [
      "Mean along the second axis: [2. 5. 8.]\n",
      "Standard deviation along the second axis: [0.81649658 0.81649658 0.81649658]\n",
      "Variance along the second axis: [0.66666667 0.66666667 0.66666667]\n"
     ]
    }
   ],
   "source": [
    "#QUESTION:06\n",
    "# Creating a sample 2D array\n",
    "sample_array = np.array([[1, 2, 3], [4, 5, 6], [7, 8, 9]])\n",
    "#mean along the second axis\n",
    "mean_values = np.mean(sample_array, axis=1)\n",
    "#standard deviation along the second axis\n",
    "std_values = np.std(sample_array, axis=1)\n",
    "#Compute variance along the second axis\n",
    "variance_values = np.var(sample_array, axis=1)\n",
    "#Print the results\n",
    "print(\"Mean along the second axis:\", mean_values)\n",
    "print(\"Standard deviation along the second axis:\", std_values)\n",
    "print(\"Variance along the second axis:\", variance_values)\n"
   ]
  },
  {
   "cell_type": "code",
   "execution_count": null,
   "id": "7bba22d7-1827-441f-a78b-32aae207e273",
   "metadata": {},
   "outputs": [],
   "source": []
  }
 ],
 "metadata": {
  "kernelspec": {
   "display_name": "Python 3 (ipykernel)",
   "language": "python",
   "name": "python3"
  },
  "language_info": {
   "codemirror_mode": {
    "name": "ipython",
    "version": 3
   },
   "file_extension": ".py",
   "mimetype": "text/x-python",
   "name": "python",
   "nbconvert_exporter": "python",
   "pygments_lexer": "ipython3",
   "version": "3.12.1"
  },
  "widgets": {
   "application/vnd.jupyter.widget-state+json": {
    "state": {},
    "version_major": 2,
    "version_minor": 0
   }
  }
 },
 "nbformat": 4,
 "nbformat_minor": 5
}
